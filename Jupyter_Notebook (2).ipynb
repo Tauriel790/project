{
 "cells": [
  {
   "cell_type": "markdown",
   "metadata": {},
   "source": [
    "<center>\n",
    "    <img src=\"https://s3-api.us-geo.objectstorage.softlayer.net/cf-courses-data/CognitiveClass/Logos/organization_logo/organization_logo.png\" width=\"300\" alt=\"cognitiveclass.ai logo\"  />\n",
    "</center>\n"
   ]
  },
  {
   "cell_type": "markdown",
   "metadata": {},
   "source": [
    "#### Add your code below following the instructions given in the course\n"
   ]
  },
  {
   "cell_type": "markdown",
   "metadata": {},
   "source": [
    "# My Jupyter Notebook on IBM Watson Studio #"
   ]
  },
  {
   "cell_type": "markdown",
   "metadata": {},
   "source": [
    "__Gloria Villa__ <br>\n",
    "Data scientist in the economic field"
   ]
  },
  {
   "cell_type": "markdown",
   "metadata": {},
   "source": [
    "_I'm interested in data science because using raw data you can provide predictive information and analyze the markets by implementing machine learning models. Data science is interesting also because is a combination of many fields such as business, statistics and computer science_"
   ]
  },
  {
   "cell_type": "markdown",
   "metadata": {},
   "source": [
    "### Mathematical operations ###"
   ]
  },
  {
   "cell_type": "code",
   "execution_count": 1,
   "metadata": {},
   "outputs": [
    {
     "data": {
      "text/plain": [
       "16.8"
      ]
     },
     "execution_count": 1,
     "metadata": {},
     "output_type": "execute_result"
    }
   ],
   "source": [
    "((15+45)*28)/100"
   ]
  },
  {
   "cell_type": "markdown",
   "metadata": {},
   "source": [
    "#### Table of elements #### <br>\n",
    "_This are some chemical elements that we are going to analyze in the table below:_ <br>\n",
    "***\n",
    "- Li (lithium) <br>\n",
    "- Be (beryllium) <br>\n",
    "- B (boron) <br>\n",
    "- C (carbon) <br>\n",
    "\n",
    "| element | atomic number | atomic radius | electro-negativity | type      |\n",
    "| ------- | ------------- | ------------- | --------\n",
    "|    Li   |       3       |     1.53      |        1.0         | metal     |\n",
    "|    Be   |       4       |     1.13      |        1.5         | metal     |\n",
    "|    B    |       5       |     0.88      |        2.0         | non-metal |\n",
    "|    C    |       6       |     0.77      |        2.5         | non-metal |\n",
    "\n",
    "_The differences between metal and non-metal elements are:_ <br>\n",
    "***\n",
    "1. Metal refers to the natural elements that are hard, shiny, opaque and dense. Non-metal implies those chemical substances that are soft, non shiny, transparent and brittle\n",
    "2. Metals have high electrical and thermal conductivity values and high melting and boiling points. Non-metals tend to be softer and the may be solid, liquids or gases.\n",
    "***\n"
   ]
  },
  {
   "cell_type": "code",
   "execution_count": null,
   "metadata": {},
   "outputs": [],
   "source": []
  }
 ],
 "metadata": {
  "kernelspec": {
   "display_name": "Python",
   "language": "python",
   "name": "conda-env-python-py"
  },
  "language_info": {
   "codemirror_mode": {
    "name": "ipython",
    "version": 3
   },
   "file_extension": ".py",
   "mimetype": "text/x-python",
   "name": "python",
   "nbconvert_exporter": "python",
   "pygments_lexer": "ipython3",
   "version": "3.7.12"
  }
 },
 "nbformat": 4,
 "nbformat_minor": 4
}
